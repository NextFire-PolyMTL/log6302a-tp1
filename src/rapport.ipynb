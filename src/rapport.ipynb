{
 "cells": [
  {
   "cell_type": "markdown",
   "metadata": {},
   "source": [
    "# LOG6302A — Analyse d’applications et Cyber-sécurité<br>Laboratoire #1\n",
    "\n",
    "**Quentin Guidée (2206809), Nam Vu (2230468)**\n",
    "\n",
    "Polytechnique Montréal – Hiver 2024\n"
   ]
  },
  {
   "cell_type": "code",
   "execution_count": 1,
   "metadata": {},
   "outputs": [],
   "source": [
    "import re\n",
    "from abc import ABC, abstractmethod\n",
    "from pathlib import Path\n",
    "\n",
    "from code_analysis import AST, ASTReader"
   ]
  },
  {
   "cell_type": "code",
   "execution_count": 2,
   "metadata": {},
   "outputs": [],
   "source": [
    "CODE_TO_ANALYZE_DIR = Path(\"../code_to_analyze\")\n",
    "\n",
    "UNIT_TESTS_AST_DIR = CODE_TO_ANALYZE_DIR / \"test_cve\"\n",
    "\n",
    "WP_AST_DIR = CODE_TO_ANALYZE_DIR / \"wordpress_ast\"\n",
    "WP_SOURCES_DIR = CODE_TO_ANALYZE_DIR / \"wordpress_sources\""
   ]
  },
  {
   "cell_type": "markdown",
   "metadata": {},
   "source": [
    "## Détection de patterns"
   ]
  },
  {
   "cell_type": "code",
   "execution_count": 3,
   "metadata": {},
   "outputs": [],
   "source": [
    "reader = ASTReader()"
   ]
  },
  {
   "cell_type": "code",
   "execution_count": 4,
   "metadata": {},
   "outputs": [],
   "source": [
    "class AbstractVisitor(ABC):\n",
    "    def __init__(self):\n",
    "        self.ast: AST\n",
    "        self.sources_dir: Path\n",
    "\n",
    "    def visit(self, ast: AST, sources_dir: Path):\n",
    "        self.ast = ast\n",
    "        self.sources_dir = sources_dir\n",
    "        self._visit(self.ast.get_root())\n",
    "\n",
    "    @abstractmethod\n",
    "    def _visit(self, node_id: int):\n",
    "        ..."
   ]
  },
  {
   "cell_type": "code",
   "execution_count": 5,
   "metadata": {},
   "outputs": [],
   "source": [
    "class ASTQueryVisitor(AbstractVisitor):\n",
    "    def _visit(self, node_id: int):\n",
    "        if self.ast.get_type(node_id) == \"FunctionCall\":\n",
    "            image = self.ast.get_image(node_id)\n",
    "            if image in [\"mysql_query\", \"mysqli_query\"]:\n",
    "                print(\n",
    "                    f\"Database call '{image}' \",\n",
    "                    f'in file \"{(self.sources_dir / self.ast.get_filename())}\", line {self.ast.get_position(node_id)[0]}',\n",
    "                )\n",
    "\n",
    "        elif (\n",
    "            self.ast.get_type(node_id) == \"BinOP\"\n",
    "            and self.ast.get_image(node_id) == \"->\"\n",
    "        ):\n",
    "            children = self.ast.get_children(node_id)\n",
    "            if (\n",
    "                len(children) > 1\n",
    "                and self.ast.get_type(children[0]) == \"Variable\"\n",
    "                and self.ast.get_type(children[1]) == \"MethodCall\"\n",
    "                and self.ast.get_image(children[1]) == \"execute\"\n",
    "            ):\n",
    "                print(\n",
    "                    f\"Database call '{self.ast.get_image(children[0])}->{self.ast.get_image(children[1])}' \"\n",
    "                    f'in file \"{(self.sources_dir / self.ast.get_filename())}\", line {self.ast.get_position(node_id)[0]}',\n",
    "                )\n",
    "\n",
    "            elif (\n",
    "                len(children) > 1\n",
    "                and self.ast.get_type(children[0]) == \"BinOP\"\n",
    "                and self.ast.get_type(children[1]) == \"MethodCall\"\n",
    "                and self.ast.get_image(children[1]) == \"exec\"\n",
    "            ):\n",
    "                binop_children = self.ast.get_children(children[0])\n",
    "                if (\n",
    "                    len(binop_children) > 1\n",
    "                    and self.ast.get_image(binop_children[1]) == \"mysql\"\n",
    "                ):\n",
    "                    print(\n",
    "                        f\"Database call '{self.ast.get_image(binop_children[0])}->{self.ast.get_image(binop_children[1])}->{self.ast.get_image(children[1])}' in \"\n",
    "                        f'in file \"{(self.sources_dir / self.ast.get_filename())}\", line {self.ast.get_position(node_id)[0]}',\n",
    "                    )\n",
    "\n",
    "        for child_id in self.ast.get_children(node_id):\n",
    "            self._visit(child_id)"
   ]
  },
  {
   "cell_type": "code",
   "execution_count": 6,
   "metadata": {},
   "outputs": [],
   "source": [
    "def run_on_wordpress(visitor: AbstractVisitor):\n",
    "    with (WP_AST_DIR / \"filelist\").open() as file:\n",
    "        for line in file:\n",
    "            ast = reader.read_ast((WP_AST_DIR / line.strip()).as_posix())\n",
    "            visitor.visit(ast, WP_SOURCES_DIR)"
   ]
  },
  {
   "cell_type": "code",
   "execution_count": 7,
   "metadata": {},
   "outputs": [
    {
     "name": "stdout",
     "output_type": "stream",
     "text": [
      "Database call 'this->mysql->exec' in in file \"../code_to_analyze/wordpress_sources/wp-includes/SimplePie/Cache/MySQL.php\", line 130\n",
      "Database call 'this->mysql->exec' in in file \"../code_to_analyze/wordpress_sources/wp-includes/SimplePie/Cache/MySQL.php\", line 139\n",
      "Database call 'query->execute' in file \"../code_to_analyze/wordpress_sources/wp-includes/SimplePie/Cache/MySQL.php\", line 168\n",
      "Database call 'query->execute' in file \"../code_to_analyze/wordpress_sources/wp-includes/SimplePie/Cache/MySQL.php\", line 188\n",
      "Database call 'query->execute' in file \"../code_to_analyze/wordpress_sources/wp-includes/SimplePie/Cache/MySQL.php\", line 200\n",
      "Database call 'query->execute' in file \"../code_to_analyze/wordpress_sources/wp-includes/SimplePie/Cache/MySQL.php\", line 217\n",
      "Database call 'query->execute' in file \"../code_to_analyze/wordpress_sources/wp-includes/SimplePie/Cache/MySQL.php\", line 239\n",
      "Database call 'query->execute' in file \"../code_to_analyze/wordpress_sources/wp-includes/SimplePie/Cache/MySQL.php\", line 257\n",
      "Database call 'this->execute' in file \"../code_to_analyze/wordpress_sources/wp-includes/SimplePie/Cache/MySQL.php\", line 265\n",
      "Database call 'query->execute' in file \"../code_to_analyze/wordpress_sources/wp-includes/SimplePie/Cache/MySQL.php\", line 276\n",
      "Database call 'query->execute' in file \"../code_to_analyze/wordpress_sources/wp-includes/SimplePie/Cache/MySQL.php\", line 300\n",
      "Database call 'query->execute' in file \"../code_to_analyze/wordpress_sources/wp-includes/SimplePie/Cache/MySQL.php\", line 346\n",
      "Database call 'query->execute' in file \"../code_to_analyze/wordpress_sources/wp-includes/SimplePie/Cache/MySQL.php\", line 378\n",
      "Database call 'query->execute' in file \"../code_to_analyze/wordpress_sources/wp-includes/SimplePie/Cache/MySQL.php\", line 403\n",
      "Database call 'query->execute' in file \"../code_to_analyze/wordpress_sources/wp-includes/SimplePie/Cache/MySQL.php\", line 429\n",
      "Database call 'query2->execute' in file \"../code_to_analyze/wordpress_sources/wp-includes/SimplePie/Cache/MySQL.php\", line 429\n",
      "Database call 'mysqli_query'  in file \"../code_to_analyze/wordpress_sources/wp-includes/wp-db.php\", line 830\n",
      "Database call 'mysql_query'  in file \"../code_to_analyze/wordpress_sources/wp-includes/wp-db.php\", line 840\n",
      "Database call 'mysqli_query'  in file \"../code_to_analyze/wordpress_sources/wp-includes/wp-db.php\", line 859\n",
      "Database call 'mysql_query'  in file \"../code_to_analyze/wordpress_sources/wp-includes/wp-db.php\", line 861\n",
      "Database call 'mysqli_query'  in file \"../code_to_analyze/wordpress_sources/wp-includes/wp-db.php\", line 905\n",
      "Database call 'mysql_query'  in file \"../code_to_analyze/wordpress_sources/wp-includes/wp-db.php\", line 907\n",
      "Database call 'mysqli_query'  in file \"../code_to_analyze/wordpress_sources/wp-includes/wp-db.php\", line 1877\n",
      "Database call 'mysql_query'  in file \"../code_to_analyze/wordpress_sources/wp-includes/wp-db.php\", line 1879\n"
     ]
    }
   ],
   "source": [
    "visitor = ASTQueryVisitor()\n",
    "run_on_wordpress(visitor)"
   ]
  },
  {
   "cell_type": "markdown",
   "metadata": {},
   "source": [
    "## Detection de vulnerabilités connues"
   ]
  },
  {
   "cell_type": "markdown",
   "metadata": {},
   "source": [
    "### CVE-2017-7189"
   ]
  },
  {
   "cell_type": "code",
   "execution_count": 8,
   "metadata": {},
   "outputs": [],
   "source": [
    "class AST_2017_7189_Visitor(AbstractVisitor):\n",
    "    def _visit(self, node_id: int):\n",
    "        children = self.ast.get_children(node_id)\n",
    "\n",
    "        if (\n",
    "            len(children) > 1\n",
    "            and self.ast.get_type(node_id) == \"FunctionCall\"\n",
    "            and self.ast.get_image(node_id) == \"fsockopen\"\n",
    "            and self.ast.get_type(children[1]) == \"ArgumentList\"\n",
    "        ):\n",
    "            params = self.ast.get_children(children[1])\n",
    "            if len(params) > 0 and (\n",
    "                self.ast.get_type(params[0]) != \"StringExpression\"\n",
    "                or re.search(r\"^\\$|:\\d+$\", self.ast.get_image(params[0]))\n",
    "            ):\n",
    "                print(\n",
    "                    f\"Potential CVE-2017-7189 detected \"\n",
    "                    f'in file \"{self.sources_dir / self.ast.get_filename()}\", line {self.ast.get_position(node_id)[0]}'\n",
    "                )\n",
    "\n",
    "        for child_id in children:\n",
    "            self._visit(child_id)"
   ]
  },
  {
   "cell_type": "code",
   "execution_count": 9,
   "metadata": {},
   "outputs": [
    {
     "name": "stdout",
     "output_type": "stream",
     "text": [
      "Potential CVE-2017-7189 detected in file \"../code_to_analyze/test_cve/2017_7189.php\", line 9\n"
     ]
    }
   ],
   "source": [
    "visitor = AST_2017_7189_Visitor()\n",
    "ast = reader.read_ast((UNIT_TESTS_AST_DIR / \"2017_7189.php.ast.json\").as_posix())\n",
    "visitor.visit(ast, CODE_TO_ANALYZE_DIR)"
   ]
  },
  {
   "cell_type": "code",
   "execution_count": 10,
   "metadata": {},
   "outputs": [
    {
     "name": "stdout",
     "output_type": "stream",
     "text": [
      "Potential CVE-2017-7189 detected in file \"../code_to_analyze/wordpress_sources/wp-admin/includes/class-ftp-pure.php\", line 49\n",
      "Potential CVE-2017-7189 detected in file \"../code_to_analyze/wordpress_sources/wp-admin/includes/class-ftp-pure.php\", line 113\n",
      "Potential CVE-2017-7189 detected in file \"../code_to_analyze/wordpress_sources/wp-includes/IXR/class-IXR-client.php\", line 90\n",
      "Potential CVE-2017-7189 detected in file \"../code_to_analyze/wordpress_sources/wp-includes/IXR/class-IXR-client.php\", line 92\n",
      "Potential CVE-2017-7189 detected in file \"../code_to_analyze/wordpress_sources/wp-includes/SimplePie/File.php\", line 162\n",
      "Potential CVE-2017-7189 detected in file \"../code_to_analyze/wordpress_sources/wp-includes/class-pop3.php\", line 97\n",
      "Potential CVE-2017-7189 detected in file \"../code_to_analyze/wordpress_sources/wp-includes/class-snoopy.php\", line 1145\n",
      "Potential CVE-2017-7189 detected in file \"../code_to_analyze/wordpress_sources/wp-includes/class-smtp.php\", line 303\n"
     ]
    }
   ],
   "source": [
    "run_on_wordpress(visitor)"
   ]
  },
  {
   "cell_type": "markdown",
   "metadata": {},
   "source": [
    "### CVE-2021-21707"
   ]
  },
  {
   "cell_type": "code",
   "execution_count": 11,
   "metadata": {},
   "outputs": [],
   "source": [
    "class AST_2021_21707_Visitor(AbstractVisitor):\n",
    "    def _visit(self, node_id: int):\n",
    "        children = self.ast.get_children(node_id)\n",
    "\n",
    "        if (\n",
    "            len(children) >= 2\n",
    "            and self.ast.get_type(node_id) == \"FunctionCall\"\n",
    "            and self.ast.get_image(node_id) == \"simplexml_load_file\"\n",
    "        ):\n",
    "            print(\n",
    "                f\"Potential CVE-2021-21707 detected \"\n",
    "                f'in file \"{self.sources_dir / self.ast.get_filename()}\", line {self.ast.get_position(node_id)[0]}'\n",
    "            )\n",
    "\n",
    "        for child_id in children:\n",
    "            self._visit(child_id)"
   ]
  },
  {
   "cell_type": "code",
   "execution_count": 12,
   "metadata": {},
   "outputs": [
    {
     "name": "stdout",
     "output_type": "stream",
     "text": [
      "Potential CVE-2021-21707 detected in file \"../code_to_analyze/test_cve/2021_21707.php\", line 10\n"
     ]
    }
   ],
   "source": [
    "visitor = AST_2021_21707_Visitor()\n",
    "ast = reader.read_ast((UNIT_TESTS_AST_DIR / \"2021_21707.php.ast.json\").as_posix())\n",
    "visitor.visit(ast, CODE_TO_ANALYZE_DIR)"
   ]
  },
  {
   "cell_type": "code",
   "execution_count": 13,
   "metadata": {},
   "outputs": [],
   "source": [
    "run_on_wordpress(visitor)"
   ]
  },
  {
   "cell_type": "markdown",
   "metadata": {},
   "source": [
    "### CVE-2019-9025"
   ]
  },
  {
   "cell_type": "code",
   "execution_count": 14,
   "metadata": {},
   "outputs": [],
   "source": [
    "class AST_2019_9025_Visitor(AbstractVisitor):\n",
    "    def _visit(self, node_id: int):\n",
    "        children = self.ast.get_children(node_id)\n",
    "\n",
    "        if (\n",
    "            len(children) >= 2\n",
    "            and self.ast.get_type(node_id) == \"FunctionCall\"\n",
    "            and self.ast.get_image(node_id) == \"mb_split\"\n",
    "        ):\n",
    "            params = self.ast.get_children(children[1])\n",
    "            # TODO: Check that the multibyte string is illegal\n",
    "            print(\n",
    "                f\"Potential CVE-2019-9025 detected \"\n",
    "                f'in file \"{self.sources_dir / self.ast.get_filename()}\", line {self.ast.get_position(node_id)[0]}'\n",
    "            )\n",
    "\n",
    "        for child_id in children:\n",
    "            self._visit(child_id)"
   ]
  },
  {
   "cell_type": "code",
   "execution_count": 15,
   "metadata": {},
   "outputs": [
    {
     "name": "stdout",
     "output_type": "stream",
     "text": [
      "Potential CVE-2019-9025 detected in file \"../code_to_analyze/test_cve/2019_9025.php\", line 8\n"
     ]
    }
   ],
   "source": [
    "visitor = AST_2019_9025_Visitor()\n",
    "ast = reader.read_ast((UNIT_TESTS_AST_DIR / \"2019_9025.php.ast.json\").as_posix())\n",
    "visitor.visit(ast, CODE_TO_ANALYZE_DIR)"
   ]
  },
  {
   "cell_type": "code",
   "execution_count": 16,
   "metadata": {},
   "outputs": [],
   "source": [
    "run_on_wordpress(visitor)"
   ]
  }
 ],
 "metadata": {
  "kernelspec": {
   "display_name": ".venv",
   "language": "python",
   "name": "python3"
  },
  "language_info": {
   "codemirror_mode": {
    "name": "ipython",
    "version": 3
   },
   "file_extension": ".py",
   "mimetype": "text/x-python",
   "name": "python",
   "nbconvert_exporter": "python",
   "pygments_lexer": "ipython3",
   "version": "3.12.1"
  }
 },
 "nbformat": 4,
 "nbformat_minor": 2
}
